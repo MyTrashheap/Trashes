{
 "cells": [
  {
   "cell_type": "code",
   "execution_count": 4,
   "metadata": {},
   "outputs": [],
   "source": [
    "#hybrid model\n",
    "from nltk.tokenize import word_tokenize\n",
    "from nltk import ngrams\n",
    "from nltk.metrics.distance import edit_distance"
   ]
  },
  {
   "cell_type": "code",
   "execution_count": null,
   "metadata": {},
   "outputs": [],
   "source": [
    "def get_top(tab, p, c):\n",
    "    if len(tab) == 0:\n",
    "        return tab.append((c,p))\n",
    "    low = len(tab)-1\n",
    "    top = 0\n",
    "    while top < low:\n",
    "        pom = (low-top) // 2\n",
    "        if tab[pom][1] > p:\n",
    "            top = pom\n",
    "        else:\n",
    "            low = pom\n",
    "    return tab[: low] [(c,p)] + tab[low: ]"
   ]
  },
  {
   "cell_type": "code",
   "execution_count": null,
   "metadata": {},
   "outputs": [],
   "source": [
    "def get_closest(tokens, token):\n",
    "    min_dist = len(tokens[0])\n",
    "    d = tokens[0]\n",
    "    for t in tokens:\n",
    "        if edit_distance(t, token) < min_dist:\n",
    "            min_dist = edit_distance(t, token)\n",
    "            d = t\n",
    "    print(d, min_dist)\n",
    "    return d"
   ]
  },
  {
   "cell_type": "code",
   "execution_count": 3,
   "metadata": {},
   "outputs": [],
   "source": [
    "#sprawdz jeszcze z opcją by w topce umieszczać tokeny zaczynające się lub kończące na tą samą literę\n",
    "# zwiększ topke, może top100\n",
    "#popraw ostatni krok z joinem\n",
    "def find_and_check(data, ngrams, n):\n",
    "    approx_data = []\n",
    "    for sentence in data:\n",
    "        approx_sentence = []\n",
    "        ngramed_sentence = ngrams(word_tokenize(sentence), n)\n",
    "        for token1, token2, token3 in ngramed_sentence:\n",
    "            sub_ngrams = [gram for gram in ngrams if gram[0] == token1 and gram[1] == token2]\n",
    "            top10 = []\n",
    "            for c in glossary:\n",
    "                p = len([gram for gram in sub_ngrams if gram[3] == c]) / len(sub_ngrams)\n",
    "                top10 = get_top(top10, p, c)\n",
    "            tokens, dist = list(zip(*top10))\n",
    "            approx = get_closest(tokens, token3)\n",
    "            approx_sentence.append(approx)\n",
    "        approx_data.append(\" \".join(approx_sentence))\n",
    "    return approx_data"
   ]
  },
  {
   "cell_type": "code",
   "execution_count": null,
   "metadata": {},
   "outputs": [],
   "source": []
  }
 ],
 "metadata": {
  "kernelspec": {
   "display_name": "Python 3",
   "language": "python",
   "name": "python3"
  },
  "language_info": {
   "codemirror_mode": {
    "name": "ipython",
    "version": 3
   },
   "file_extension": ".py",
   "mimetype": "text/x-python",
   "name": "python",
   "nbconvert_exporter": "python",
   "pygments_lexer": "ipython3",
   "version": "3.5.2"
  }
 },
 "nbformat": 4,
 "nbformat_minor": 2
}
