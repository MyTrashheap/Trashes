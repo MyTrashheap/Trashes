{
 "cells": [
  {
   "cell_type": "code",
   "execution_count": 1,
   "metadata": {},
   "outputs": [],
   "source": [
    "from nltk.tokenize import sent_tokenize\n",
    "from string import ascii_lowercase\n",
    "import numpy as np\n",
    "import math\n",
    "from pprint import pprint\n",
    "from collections import defaultdict"
   ]
  },
  {
   "cell_type": "code",
   "execution_count": 2,
   "metadata": {},
   "outputs": [],
   "source": [
    "#add probability and white spaces\n",
    "#musisz wziac kazdy znak alfa numeryczny\n",
    "mapping = {\n",
    "    \"a\": [[\"a\", \"q\", \"w\", \"s\", \"z\"], 5 * [1 / 5]],\n",
    "    \"b\": [[\"b\", \"v\", \"g\", \"h\", \"n\"], 5 * [1 / 5]],\n",
    "    \"c\": [[\"c\", \"x\", \"d\", \"f\", \"v\"], 5 * [1 / 5]],\n",
    "    \"d\": [[\"d\", \"s\", \"e\", \"r\", \"f\", \"c\", \"x\"], 7 * [1 / 7]],\n",
    "    \"e\": [[\"e\", \"w\", \"r\", \"d\", \"s\", \"3\", \"4\"], 5 * [1 / 6] + 2 * [1 / 12]],\n",
    "    \"f\": [[\"f\", \"d\", \"r\", \"t\", \"g\", \"v\", \"c\"], 7 * [1 / 7]],\n",
    "    \"g\": [[\"g\", \"f\", \"t\", \"y\", \"h\", \"b\", \"v\"], 7 * [1 / 7]],\n",
    "    \"h\": [[\"h\", \"g\", \"y\", \"u\", \"j\", \"n\", \"b\"], 7 * [1 / 7]],\n",
    "    \"i\": [[\"i\", \"u\", \"o\", \"k\", \"j\", \"8\", \"9\"], 5 * [1 / 6] + 2 * [1 / 12]],\n",
    "    \"j\": [[\"j\", \"h\", \"u\", \"i\", \"k\", \"m\", \"n\"], 7 * [1 / 7]],\n",
    "    \"k\": [[\"k\", \"j\", \"i\", \"o\", \"l\", \",\", \"m\"], 7 * [1 / 7]],\n",
    "    \"l\": [[\"l\", \"k\", \"o\", \"p\", \";\", \".\", \",\"], 7 * [1 / 7]],\n",
    "    \"m\": [[\"m\", \"n\", \"j\", \"k\", \",\"], 5 * [1 / 5]],\n",
    "    \"n\": [[\"n\", \"b\", \"h\", \"j\", \"m\"], 5 * [1 / 5]],\n",
    "    \"o\": [[\"o\", \"i\", \"p\", \"l\", \"k\", \"9\", \"0\"], 5 * [1 / 6] + 2 * [1 / 12]],\n",
    "    \"p\": [[\"p\", \"o\", \"l\", \"0\", \"-\", \"[\", \";\"], 3 * [1 / 4] + 4 * [1 / 16]],\n",
    "    \"q\": [[\"q\", \"w\", \"a\", \"1\", \"2\"], 3 * [1 / 4] + 2 * [1 / 8]],\n",
    "    \"r\": [[\"r\", \"e\", \"t\", \"f\", \"d\", \"4\", \"5\"], 5 * [1 / 6] + 2 * [1 / 12]],\n",
    "    \"s\": [[\"s\", \"a\", \"w\", \"e\", \"d\", \"x\", \"z\"], 7 * [1 / 7]],\n",
    "    \"t\": [[\"t\", \"r\", \"y\", \"g\", \"f\", \"5\", \"6\"], 5 * [1 / 6] + 2 * [1 / 12]],\n",
    "    \"u\": [list(\"uyijh78\"), 5 * [1 / 6] + 2 * [1 / 12]],\n",
    "    \"v\": [list(\"vcfgb\"), 5 * [1 / 5]],\n",
    "    \"w\": [list(\"wqesa23\"), 5 * [1 / 6] + 2 * [1 / 12]],\n",
    "    \"x\": [list(\"xzsdc\"), 5 * [1 / 5]],\n",
    "    \"y\": [list(\"ytuhg67\"), 5 * [1 / 6] + 2 * [1 / 12]],\n",
    "    \"z\": [list(\"zasx\"), 4 * [1 / 4]],\n",
    "    \"1\": [list(\"1qw2\"), 4 * [1 / 4]],\n",
    "    \"2\": [list(\"23wq1\"), 5 * [1 / 5]],\n",
    "    \"3\": [list(\"34ew2\"), 5 * [1 / 5]],\n",
    "    \"4\": [list(\"45re3\"), 5 * [1 / 5]],\n",
    "    \"5\": [list(\"56tr4\"), 5 * [1 / 5]],\n",
    "    \"6\": [list(\"67yt5\"), 5 * [1 / 5]],\n",
    "    \"7\": [list(\"78uy6\"), 5 * [1 / 5]],\n",
    "    \"8\": [list(\"89iu7\"), 5 * [1 / 5]],\n",
    "    \"9\": [list(\"90oi8\"), 5 * [1 / 5]],\n",
    "    \"0\": [list(\"0po9\"), 4 * [1 / 4]],\n",
    "    \" \": [list(ascii_lowercase), len(list(ascii_lowercase)) * [1 / len(list(ascii_lowercase))]],\n",
    "    \",\": [list(\",mkl.\"), 5 * [1 / 5]]\n",
    "    \n",
    "}"
   ]
  },
  {
   "cell_type": "code",
   "execution_count": 159,
   "metadata": {},
   "outputs": [],
   "source": [
    "alfabet = \"qwertyuiopasdfghjklzxcvbnm\"\n",
    "row2 = list(\"qwertyuiop\")\n",
    "row1 = list(\"asdfghjkl\")\n",
    "row0 = list(\"zxcvbnm\")\n",
    "def mapping2(cr1, cr2):\n",
    "    k = dict()\n",
    "    chars = [cr1, cr2]\n",
    "    rows = [row0, row1, row2]\n",
    "    print(chars)\n",
    "    \n",
    "    for cr in chars:\n",
    "        if cr in alfabet:\n",
    "            for i, row in enumerate(rows):\n",
    "                if cr in row:\n",
    "                    k[cr] = (i, row.index(cr))\n",
    "        else:\n",
    "            return[cr1, cr2]\n",
    "\n",
    "    if k[cr1][0] - k[cr2][0] == 0:\n",
    "        if k[cr1][1] - k[cr2][1] == 0:\n",
    "            return [cr2]\n",
    "        elif k[cr1][1] - k[cr2][1] > 0:\n",
    "            return rows[k[cr1][0]] [k[cr2][1]: k[cr1][1] + 1]\n",
    "        else:\n",
    "            return rows[k[cr1][0]] [k[cr1][1]: k[cr2][1] + 1]\n",
    "    elif k[cr1][0] - k[cr2][0] > 0:\n",
    "        if k[cr1][1] - k[cr2][1] == 0:\n",
    "            return [cr1, cr2]\n",
    "        elif k[cr1][1] - k[cr2][1] > 0:\n",
    "            if k[cr1][1] - k[cr2][1] == 1:\n",
    "                return rows[k[cr1][0]] [k[cr2][1] + 1: k[cr1][1] + 1] + rows[k[cr2][0]] [k[cr2][1]: k[cr1][1]]\n",
    "            else:\n",
    "                return rows[k[cr1][0]] [k[cr2][1] + 2: k[cr1][1] + 1] + rows[1] [k[cr2][1] + 1: k[cr1][1]] + rows[k[cr2][0]] [k[cr2][1]: k[cr1][1] - 1]\n",
    "        else:\n",
    "            return rows[k[cr1][0]] [k[cr1][1]: k[cr2][1] + 1] + rows[k[cr2][0]] [k[cr1][1]: k[cr2][1] + 1]\n",
    "    else:\n",
    "        if k[cr1][1] - k[cr2][1] == 0:\n",
    "            return [cr2, cr1]\n",
    "        elif k[cr1][1] - k[cr2][1] > 0:\n",
    "            return rows[k[cr2][0]] [k[cr2][1]: k[cr1][1] + 1] + rows[k[cr1][0]] [k[cr2][1]: k[cr1][1] + 1]\n",
    "        else:\n",
    "            if k[cr1][1] - k[cr2][1] == 1:\n",
    "                return rows[k[cr2][0]] [k[cr1][1] + 1: k[cr2][1] + 1] + rows[k[cr1][0]] [k[cr1][1]: k[cr2][1]]\n",
    "            else:\n",
    "                return rows[k[cr2][0]] [k[cr1][1] + 2: k[cr2][1] + 1] + rows[1] [k[cr1][1] + 1: k[cr2][1]] + rows[k[cr1][0]] [k[cr1][1]: k[cr2][1] - 1]\n",
    "        \n",
    "                "
   ]
  },
  {
   "cell_type": "code",
   "execution_count": 160,
   "metadata": {},
   "outputs": [
    {
     "name": "stdout",
     "output_type": "stream",
     "text": [
      "['w', 'h']\n"
     ]
    },
    {
     "data": {
      "text/plain": [
       "['w', 'e', 'r', 't', 'y', 's', 'd', 'f', 'g', 'h']"
      ]
     },
     "execution_count": 160,
     "metadata": {},
     "output_type": "execute_result"
    }
   ],
   "source": [
    "mapping2(\"w\", \"h\")"
   ]
  },
  {
   "cell_type": "code",
   "execution_count": 161,
   "metadata": {},
   "outputs": [],
   "source": [
    "def swap_char(sentence, position, mapping=mapping):\n",
    "    to_swap = mapping[sentence.lower()[position]]\n",
    "    return sentence[: position] + str(np.random.choice(to_swap[0], p=to_swap[1])) + sentence[position + 1: ]"
   ]
  },
  {
   "cell_type": "code",
   "execution_count": 162,
   "metadata": {},
   "outputs": [],
   "source": [
    "def swap_with_neighbour(sentence, position):\n",
    "    return sentence[: position - 1] + sentence[position + 1] + sentence[position] + sentence[position + 2:]"
   ]
  },
  {
   "cell_type": "code",
   "execution_count": 163,
   "metadata": {},
   "outputs": [],
   "source": [
    "def add_char(sentence, position):\n",
    "    square = mapping2(sentence.lower()[position], sentence.lower()[position - 1])\n",
    "    length = len(square)\n",
    "    a = sentence[: position - 1] + str(np.random.choice(square, p=length * [1 / length])) + sentence[position: ]\n",
    "    return a"
   ]
  },
  {
   "cell_type": "code",
   "execution_count": 164,
   "metadata": {},
   "outputs": [],
   "source": [
    "def loss_char(sentence, position):\n",
    "    return sentence[: position] + sentence[position + 1: ]"
   ]
  },
  {
   "cell_type": "code",
   "execution_count": 167,
   "metadata": {},
   "outputs": [],
   "source": [
    "functions = {\n",
    "    1: swap_char,\n",
    "    2: swap_with_neighbour,\n",
    "    3: add_char,\n",
    "    4: loss_char\n",
    "}"
   ]
  },
  {
   "cell_type": "code",
   "execution_count": 174,
   "metadata": {},
   "outputs": [],
   "source": [
    "def nb_of_errors_in_sentence(length):\n",
    "    #creating distribution: Benford-like\n",
    "    pre_dist = list(map(lambda x: math.log((x+2) / (x + 1), length) * (1 / (pow(x,3) + 1)), range(length)))\n",
    "    norm_pre_dist = pre_dist / np.linalg.norm(pre_dist, 1)\n",
    "    #moving most probably value\n",
    "    most = length // 50\n",
    "    a, b = norm_pre_dist[: most + 1], norm_pre_dist[most + 1: ]\n",
    "    distribution = list(reversed(a)) + list(b)\n",
    "    \n",
    "    p = np.random.choice(range(length), p=distribution)\n",
    "    return p"
   ]
  },
  {
   "cell_type": "code",
   "execution_count": 175,
   "metadata": {},
   "outputs": [],
   "source": [
    "#wylosuj liczbe z przedziału [0;rang-1] - liczba bledów w wyrazeniu - rozkładem zeta\n",
    "#dla każdej jedności, wylosuj miejsca, dla kazdego miejsca wylosuj zakłócenie\n",
    "#zakłócenia - zamiana litery, zamiana dwóch sasiednich znaków, zgubienie litery, wrzucenie dodatkowej litery\n",
    "def error_generator(sentence):\n",
    "    length = len(sentence) - 1\n",
    "    nb = nb_of_errors_in_sentence(length)\n",
    "    for i in range(nb):\n",
    "        position = np.random.choice(range(length), p=length*[1/length])\n",
    "        print(sentence, position)\n",
    "        sentence = functions[np.random.randint(1,5)](sentence, position)\n",
    "    return sentence\n",
    "    "
   ]
  },
  {
   "cell_type": "code",
   "execution_count": 176,
   "metadata": {},
   "outputs": [],
   "source": [
    "def pixie(corpus):\n",
    "    misspelled_sentences = []\n",
    "    lists_of_sentences = sent_tokenize(corpus)\n",
    "    print(lists_of_sentences)\n",
    "    print()\n",
    "    for sentence in lists_of_sentences:\n",
    "        misspelled_sentences.append(error_generator(sentence))\n",
    "    return misspelled_sentences"
   ]
  },
  {
   "cell_type": "code",
   "execution_count": 177,
   "metadata": {},
   "outputs": [],
   "source": [
    "s = \"Formann provided an alternative explanation by directing attention to the interrelation between the distribution of the significant digits and the distribution of the observed variable. He showed in a simulation study that long right-tailed distributions of a random variable are compatible with the Newcomb-Benford law, and that for distributions of the ratio of two random variables the fit generally improves.[14] For numbers drawn from certain distributions (IQ scores, human heights) the Law fails to hold because these variates obey a normal distribution which is known not to satisfy Benford's law,[6] since normal distributions can't span several orders of magnitude and the mantissae of their logarithms will not be (even approximately) uniformly distributed. However, if one mixes numbers from those distributions, for example by taking numbers from newspaper articles, Benford's law reappears. This can also be proven mathematically: if one repeatedly randomly chooses a probability distribution (from an uncorrelated set) and then randomly chooses a number according to that distribution, the resulting list of numbers will obey Benford's Law.[8][15] A similar probabilistic explanation for the appearance of Benford's Law in everyday-life numbers has been advanced by showing that it arises naturally when one considers mixtures of uniform distributions.\""
   ]
  },
  {
   "cell_type": "code",
   "execution_count": 178,
   "metadata": {},
   "outputs": [],
   "source": [
    "a = \"When you’re just getting started with computer programming, it is absolutely overwhelming. You hear about students who can write code in 10 programming languages, meet a fabled Linux guru, or try to keep up as your instructor speeds through dozens of computer science concepts. And like thousands of others, you probably make a very understandable mistake: you think you’re supposed to know everything there is to know about programming.  You’re not. And no one will ever expect you to.  Even after years as a developer, I only know a small fraction of the technologies in those pictures at an “expert” level. I don’t even recognize a few of them! I’ve used maybe half of them at some point or another, but 75% of that usage was probably under an hour total in my life.  But if you sit me down for an hour with any of them, I can probably put it to use. And that’s because I know how to learn like a developer.  As a developer, you will always be fighting a losing battle if you try to stay on top of every new technology. There are just too many of them, and they’re changing faster than ever. At best, you can pick a few to stay up-to-date on.  So rather than spending your time trying to learn every programming language and technology, you should instead learn how to learn like a developer. Here’s what that means:\""
   ]
  },
  {
   "cell_type": "code",
   "execution_count": 179,
   "metadata": {},
   "outputs": [
    {
     "name": "stdout",
     "output_type": "stream",
     "text": [
      "['Formann provided an alternative explanation by directing attention to the interrelation between the distribution of the significant digits and the distribution of the observed variable.', 'He showed in a simulation study that long right-tailed distributions of a random variable are compatible with the Newcomb-Benford law, and that for distributions of the ratio of two random variables the fit generally improves.', \"[14] For numbers drawn from certain distributions (IQ scores, human heights) the Law fails to hold because these variates obey a normal distribution which is known not to satisfy Benford's law,[6] since normal distributions can't span several orders of magnitude and the mantissae of their logarithms will not be (even approximately) uniformly distributed.\", \"However, if one mixes numbers from those distributions, for example by taking numbers from newspaper articles, Benford's law reappears.\", \"This can also be proven mathematically: if one repeatedly randomly chooses a probability distribution (from an uncorrelated set) and then randomly chooses a number according to that distribution, the resulting list of numbers will obey Benford's Law.\", \"[8][15] A similar probabilistic explanation for the appearance of Benford's Law in everyday-life numbers has been advanced by showing that it arises naturally when one considers mixtures of uniform distributions.\"]\n",
      "\n",
      "Formann provided an alternative explanation by directing attention to the interrelation between the distribution of the significant digits and the distribution of the observed variable. 136\n",
      "Formann provided an alternative explanation by directing attention to the interrelation between the distribution of the significant digis and the distribution of the observed variable. 153\n",
      "Formann provided an alternative explanation by directing attention to the interrelation between the distribution of the significant digis and the distrituion of the observed variable. 127\n",
      "He showed in a simulation study that long right-tailed distributions of a random variable are compatible with the Newcomb-Benford law, and that for distributions of the ratio of two random variables the fit generally improves. 28\n",
      "He showed in a simulation sduy that long right-tailed distributions of a random variable are compatible with the Newcomb-Benford law, and that for distributions of the ratio of two random variables the fit generally improves. 76\n",
      "He showed in a simulation sduy that long right-tailed distributions of a ranom variable are compatible with the Newcomb-Benford law, and that for distributions of the ratio of two random variables the fit generally improves. 212\n",
      "He showed in a simulation sduy that long right-tailed distributions of a ranom variable are compatible with the Newcomb-Benford law, and that for distributions of the ratio of two random variables the fit generalky improves. 57\n",
      "[14] For numbers drawn from certain distributions (IQ scores, human heights) the Law fails to hold because these variates obey a normal distribution which is known not to satisfy Benford's law,[6] since normal distributions can't span several orders of magnitude and the mantissae of their logarithms will not be (even approximately) uniformly distributed. 28\n",
      "[14] For numbers drawn fromecrtain distributions (IQ scores, human heights) the Law fails to hold because these variates obey a normal distribution which is known not to satisfy Benford's law,[6] since normal distributions can't span several orders of magnitude and the mantissae of their logarithms will not be (even approximately) uniformly distributed. 250\n",
      "[14] For numbers drawn fromecrtain distributions (IQ scores, human heights) the Law fails to hold because these variates obey a normal distribution which is known not to satisfy Benford's law,[6] since normal distributions can't span several orders of magnitude and the mantissae of their logarithms will not be (even approximately) uniformly distributed. 347\n",
      "[14] For numbers drawn fromecrtain distributions (IQ scores, human heights) the Law fails to hold because these variates obey a normal distribution which is known not to satisfy Benford's law,[6] since normal distributions can't span several orders of magnitude and the mantissae of their logarithms will not be (even approximately) uniformly disirbuted. 223\n",
      "['c', ' ']\n",
      "[14] For numbers drawn fromecrtain distributions (IQ scores, human heights) the Law fails to hold because these variates obey a normal distribution which is known not to satisfy Benford's law,[6] since normal distributionsccan't span several orders of magnitude and the mantissae of their logarithms will not be (even approximately) uniformly disirbuted. 30\n",
      "[14] For numbers drawn fromecrfain distributions (IQ scores, human heights) the Law fails to hold because these variates obey a normal distribution which is known not to satisfy Benford's law,[6] since normal distributionsccan't span several orders of magnitude and the mantissae of their logarithms will not be (even approximately) uniformly disirbuted. 71\n",
      "[14] For numbers drawn fromecrfain distributions (IQ scores, human heignts) the Law fails to hold because these variates obey a normal distribution which is known not to satisfy Benford's law,[6] since normal distributionsccan't span several orders of magnitude and the mantissae of their logarithms will not be (even approximately) uniformly disirbuted. 18\n",
      "['r', 'd']\n",
      "However, if one mixes numbers from those distributions, for example by taking numbers from newspaper articles, Benford's law reappears. 76\n",
      "['g', 'n']\n",
      "However, if one mixes numbers from those distributions, for example by taking numbers from newspaper articles, Benford's law reappears. 47\n",
      "This can also be proven mathematically: if one repeatedly randomly chooses a probability distribution (from an uncorrelated set) and then randomly chooses a number according to that distribution, the resulting list of numbers will obey Benford's Law. 197\n",
      "This can also be proven mathematically: if one repeatedly randomly chooses a probability distribution (from an uncorrelated set) and then randomly chooses a number according to that distribution, te resulting list of numbers will obey Benford's Law. 155\n",
      "This can also be proven mathematically: if one repeatedly randomly chooses a probability distribution (from an uncorrelated set) and then randomly chooses anumber according to that distribution, te resulting list of numbers will obey Benford's Law. 28\n",
      "['e', 'h']\n",
      "This can also be proven matrematically: if one repeatedly randomly chooses a probability distribution (from an uncorrelated set) and then randomly chooses anumber according to that distribution, te resulting list of numbers will obey Benford's Law. 247\n",
      "[8][15] A similar probabilistic explanation for the appearance of Benford's Law in everyday-life numbers has been advanced by showing that it arises naturally when one considers mixtures of uniform distributions. 65\n",
      "[8][15] A similar probabilistic explanation for the appearance oB enford's Law in everyday-life numbers has been advanced by showing that it arises naturally when one considers mixtures of uniform distributions. 163\n",
      "[8][15] A similar probabilistic explanation for the appearance oB enford's Law in everyday-life numbers has been advanced by showing that it arises naturally when ine considers mixtures of uniform distributions. 185\n",
      "[8][15] A similar probabilistic explanation for the appearance oB enford's Law in everyday-life numbers has been advanced by showing that it arises naturally when ine considers mixturescof uniform distributions. 38\n",
      "['a', 'n']\n"
     ]
    },
    {
     "data": {
      "text/plain": [
       "['Formann provided an alternative explanation by directing attention to the interrelation between the distribution of the signifiant digis and the distrituion of the observed variable.',\n",
       " 'He showed in a simulation sduy that long right-tailed disgributions of a ranom variable are compatible with the Newcomb-Benford law, and that for distributions of the ratio of two random variables the fit generalky improves.',\n",
       " \"[14] For numbers rrawn fromecrfain distributions (IQ scores, human heignts) the Law fails to hold because these variates obey a normal distribution which is known not to satisfy Benford's law,[6] since normal distributionsccan't span several orders of magnitude and the mantissae of their logarithms will not be (even approximately) uniformly disirbuted.\",\n",
       " \"However, if one mixes numbers from those distrubtions, for example by taking numbers from newspaper articles, Benford's law reappears.\",\n",
       " \"This can also be proven matrematically: if one repeatedly randomly chooses a probability distribution (from an uncorrelated set) and then randomly chooses anumber according to that distribution, te resulting list of numbers will obey Benford's Law\",\n",
       " \"[8][15] A similar probabilistic explaaation for the appearance oB enford's Law in everyday-life numbers has been advanced by showing that it arises naturally when ine considers mixturescof uniform distributions.\"]"
      ]
     },
     "execution_count": 179,
     "metadata": {},
     "output_type": "execute_result"
    }
   ],
   "source": [
    "pixie(s)"
   ]
  },
  {
   "cell_type": "code",
   "execution_count": null,
   "metadata": {},
   "outputs": [],
   "source": []
  },
  {
   "cell_type": "code",
   "execution_count": null,
   "metadata": {},
   "outputs": [],
   "source": [
    "#TODO\n",
    "#kontrolowac dlugość napisów, ich długość się zmienia\n",
    "# dorobić lepszy model dodawania \"losowego\" znaku ograniczyć do znaków z prostokąta\n",
    "# dokończyć model zamiany znaku\n",
    "# rozpatrzyć to że zaniechuje ostatonią pozycję"
   ]
  },
  {
   "cell_type": "code",
   "execution_count": null,
   "metadata": {},
   "outputs": [],
   "source": [
    "import nltk"
   ]
  },
  {
   "cell_type": "code",
   "execution_count": null,
   "metadata": {},
   "outputs": [],
   "source": [
    "nltk.corpus.twitter_samples.strings()"
   ]
  },
  {
   "cell_type": "code",
   "execution_count": null,
   "metadata": {},
   "outputs": [],
   "source": []
  },
  {
   "cell_type": "code",
   "execution_count": null,
   "metadata": {},
   "outputs": [],
   "source": [
    "mapping = {\n",
    "    \"a\": [[\"a\", \"q\", \"w\", \"s\", \"z\"], []]\n",
    "    \"b\": [[\"b\", \"v\", \"g\", \"h\", \"n\"], []]\n",
    "    \"c\": [[\"c\", \"x\", \"d\", \"f\", \"v\"], []]\n",
    "    \"d\": [[\"d\", \"s\", \"e\", \"r\", \"f\", \"c\", \"x\"], []]\n",
    "    \"e\": [[\"e\", \"w\", \"3\", \"4\", \"r\", \"d\", \"s\"], []] \n",
    "    \"f\": [[\"f\", \"d\", \"r\", \"t\", \"g\", \"v\", \"c\"], []]\n",
    "    \"g\": [[\"g\", \"f\", \"t\", \"y\", \"h\", \"b\", \"v\"], []]\n",
    "    \"h\": [[\"h\", \"g\", \"y\", \"u\", \"j\", \"n\", \"b\"], []]\n",
    "    \"i\": [[\"i\", \"u\", \"8\", \"9\", \"o\", \"k\", \"j\"], []]\n",
    "    \"j\": [[\"j\", \"h\", \"u\", \"i\", \"k\", \"m\", \"n\"], []]\n",
    "    \"k\": [[\"k\", \"j\", \"i\", \"o\", \"l\", \",\", \"m\"], []]\n",
    "    \"l\": [[\"l\", \"k\", \"o\", \"p\", \";\", \".\", \",\"], []]\n",
    "    \"m\": [[\"m\", \"n\", \"j\", \"k\", \",\"], []]\n",
    "    \"n\": [[\"n\", \"b\", \"h\", \"j\", \"m\"], []]\n",
    "    \"o\": [[\"o\", \"i\", \"9\", \"0\", \"p\", \"l\", \"k\"], []]\n",
    "    \"p\": [[\"p\", \"o\", \"0\", \"-\", \"[\", \";\", \"l\"], []]\n",
    "    \"q\": [[\"q\", \"1\", \"2\", \"w\", \"a\"], []]\n",
    "    \"r\": [[\"r\", \"e\", \"4\", \"5\", \"t\", \"f\", \"d\"], []]\n",
    "    \"s\": [[\"s\", \"a\", \"w\", \"e\", \"d\", \"x\", \"z\"], []]\n",
    "    \"t\": [[\"t\", \"r\", \"5\", \"6\", \"y\", \"g\", \"f\"], []]\n",
    "    \"u\": [list(\"uy78ijh\"),]\n",
    "    \"v\": [list(\"vcfgb\"), ]\n",
    "    \"w\": [list(\"wq23esa\"), ]\n",
    "    \"x\": [list(\"xzsdc\"), ]\n",
    "    \"y\": [list(\"yt67uhg\"), ]\n",
    "    \"z\": [list(\"zasx\"), ]\n",
    "}"
   ]
  }
 ],
 "metadata": {
  "kernelspec": {
   "display_name": "Python 3",
   "language": "python",
   "name": "python3"
  },
  "language_info": {
   "codemirror_mode": {
    "name": "ipython",
    "version": 3
   },
   "file_extension": ".py",
   "mimetype": "text/x-python",
   "name": "python",
   "nbconvert_exporter": "python",
   "pygments_lexer": "ipython3",
   "version": "3.5.2"
  }
 },
 "nbformat": 4,
 "nbformat_minor": 2
}
